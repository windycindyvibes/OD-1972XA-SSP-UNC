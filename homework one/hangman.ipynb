{
 "cells": [
  {
   "cell_type": "code",
   "execution_count": 2,
   "metadata": {},
   "outputs": [],
   "source": [
    "import random"
   ]
  },
  {
   "cell_type": "code",
   "execution_count": 4,
   "metadata": {},
   "outputs": [
    {
     "name": "stderr",
     "output_type": "stream",
     "text": [
      "<>:2: SyntaxWarning: invalid escape sequence '\\S'\n",
      "<>:2: SyntaxWarning: invalid escape sequence '\\S'\n",
      "C:\\Users\\user\\AppData\\Local\\Temp\\ipykernel_15884\\1896885987.py:2: SyntaxWarning: invalid escape sequence '\\S'\n",
      "  with open('D:\\SSP\\homework one\\words.txt') as file_object:\n"
     ]
    }
   ],
   "source": [
    "words = []\n",
    "with open('D:\\SSP\\homework one\\words.txt') as file_object:\n",
    "    words_file = file_object.read()\n",
    "    words = words_file.splitlines() "
   ]
  },
  {
   "cell_type": "code",
   "execution_count": 5,
   "metadata": {},
   "outputs": [],
   "source": [
    "indices = range(0, len(words), 1)\n",
    "random_index = random.choice(indices)\n",
    "word = words[random_index]"
   ]
  },
  {
   "cell_type": "code",
   "execution_count": 17,
   "metadata": {},
   "outputs": [],
   "source": [
    "def process_guess(word, guess, num, current, wrong_guesses):\n",
    "    already_guessed = False\n",
    "    for x in wrong_guesses:\n",
    "        if guess == x:\n",
    "            print(\"You have already guessed this letter! Please try another one.\")\n",
    "            print(\"Past wrong guesses \" + str(wrong_guesses))\n",
    "            already_guessed = True\n",
    "    \n",
    "    if not already_guessed:\n",
    "        word_list = list(word)\n",
    "        found = False\n",
    "        for i in range(0, len(word_list)):\n",
    "            if word_list[i] == guess:\n",
    "                current = current[:i] + guess + current[i+1:]\n",
    "                found = True\n",
    "\n",
    "        if found:\n",
    "            print(\"Your current string \" + current)\n",
    "            print(\"Past wrong guesses \" + str(wrong_guesses))\n",
    "            print(\"You have \" + str(num) + \" guesses left.\")\n",
    "        else:\n",
    "            print(\"Wrong guess.\")\n",
    "            wrong_guesses = wrong_guesses.append(guess)\n",
    "    return current"
   ]
  },
  {
   "cell_type": "code",
   "execution_count": 19,
   "metadata": {},
   "outputs": [
    {
     "name": "stdout",
     "output_type": "stream",
     "text": [
      "Your word is 7 letters long.\n",
      "Your current string _e_____\n",
      "Past wrong guesses []\n",
      "You have 6 guesses left.\n",
      "Your current string _e___s_\n",
      "Past wrong guesses []\n",
      "You have 5 guesses left.\n",
      "Your current string _e___st\n",
      "Past wrong guesses []\n",
      "You have 4 guesses left.\n",
      "Wrong guess.\n",
      "Wrong guess.\n",
      "Wrong guess.\n",
      "Wrong guess.\n",
      "Wrong guess.\n",
      "You lost.\n"
     ]
    }
   ],
   "source": [
    "num = 7\n",
    "guess_num = 0\n",
    "current = ''\n",
    "wrong_guesses = []\n",
    "for i in range(0, num):\n",
    "    current += '_'\n",
    "\n",
    "guess = ''\n",
    "print('Your word is ' + str(len(word)) + ' letters long.')\n",
    "while ((word != guess) and (guess_num <= num)):\n",
    "    guess_num += 1\n",
    "    guess = input(\"What is your next guess?\")\n",
    "    x = process_guess(word, guess, num-guess_num, current, wrong_guesses)\n",
    "    current = x\n",
    "if (current.__contains__('_')):\n",
    "    print(\"You lost.\")\n",
    "else:\n",
    "    print(\"You have won!\")"
   ]
  }
 ],
 "metadata": {
  "kernelspec": {
   "display_name": "Python 3",
   "language": "python",
   "name": "python3"
  },
  "language_info": {
   "codemirror_mode": {
    "name": "ipython",
    "version": 3
   },
   "file_extension": ".py",
   "mimetype": "text/x-python",
   "name": "python",
   "nbconvert_exporter": "python",
   "pygments_lexer": "ipython3",
   "version": "3.12.3"
  }
 },
 "nbformat": 4,
 "nbformat_minor": 2
}
