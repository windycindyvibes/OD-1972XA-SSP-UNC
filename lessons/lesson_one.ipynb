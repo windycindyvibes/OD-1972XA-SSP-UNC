{
 "cells": [
  {
   "cell_type": "code",
   "execution_count": 1,
   "metadata": {},
   "outputs": [
    {
     "name": "stdout",
     "output_type": "stream",
     "text": [
      "hello world\n"
     ]
    }
   ],
   "source": [
    "print(\"hello world\")"
   ]
  },
  {
   "cell_type": "code",
   "execution_count": null,
   "metadata": {},
   "outputs": [],
   "source": [
    "def calculate_change(change):\n",
    "    num_quarter = change%25\n",
    "    change = change - 25*num_quarter\n",
    "    num_dime = change%10\n",
    "    change = change - 10*num_dime\n",
    "    num_nickel = change%5\n",
    "    change = change - 5*num_nickel\n",
    "    num_pennies = change\n",
    "\n",
    "    print(num_quarter, num_dime, num_nickel,)"
   ]
  },
  {
   "cell_type": "code",
   "execution_count": 2,
   "metadata": {},
   "outputs": [],
   "source": [
    "import math\n",
    "def get_area(radius):\n",
    "    return(math.pi * radius**2)"
   ]
  },
  {
   "cell_type": "code",
   "execution_count": 3,
   "metadata": {},
   "outputs": [
    {
     "data": {
      "text/plain": [
       "314.1592653589793"
      ]
     },
     "execution_count": 3,
     "metadata": {},
     "output_type": "execute_result"
    }
   ],
   "source": [
    "get_area(10)"
   ]
  },
  {
   "cell_type": "code",
   "execution_count": 4,
   "metadata": {},
   "outputs": [],
   "source": [
    "def get_distance(x1, x2, y1, y2):\n",
    "    return math.sqrt((x2-x1)^2+(y2-y1)^2)"
   ]
  },
  {
   "cell_type": "code",
   "execution_count": 7,
   "metadata": {},
   "outputs": [],
   "source": [
    "import random\n",
    "def guessing_game():\n",
    "    guess = 0\n",
    "    ans = random.randint(0, 100)\n",
    "    while (guess != ans):\n",
    "        guess = int(input(\"Enter a number: \"))\n",
    "        if (guess == ans):\n",
    "            print(\"Done!\")\n",
    "        elif (abs(guess-ans) < 1):\n",
    "            print(\"Lava\")\n",
    "        elif (abs(guess-ans) < 5):\n",
    "            print(\"Warm\")\n",
    "        else:\n",
    "            print(\"Cold\")"
   ]
  },
  {
   "cell_type": "code",
   "execution_count": 8,
   "metadata": {},
   "outputs": [
    {
     "name": "stdout",
     "output_type": "stream",
     "text": [
      "Cold\n",
      "Cold\n",
      "Cold\n",
      "Cold\n",
      "Cold\n",
      "Cold\n",
      "Cold\n",
      "Cold\n",
      "Warm\n",
      "Warm\n",
      "Cold\n",
      "Cold\n",
      "Cold\n",
      "Warm\n",
      "Warm\n",
      "Done!\n"
     ]
    }
   ],
   "source": [
    "guessing_game()"
   ]
  },
  {
   "cell_type": "code",
   "execution_count": 10,
   "metadata": {},
   "outputs": [],
   "source": [
    "from tqdm import tqdm "
   ]
  },
  {
   "cell_type": "code",
   "execution_count": 11,
   "metadata": {},
   "outputs": [
    {
     "name": "stderr",
     "output_type": "stream",
     "text": [
      "100%|██████████| 6/6 [00:00<?, ?it/s]"
     ]
    },
    {
     "name": "stdout",
     "output_type": "stream",
     "text": [
      "1\n",
      "2\n",
      "3\n",
      "4\n",
      "5\n",
      "6\n"
     ]
    },
    {
     "name": "stderr",
     "output_type": "stream",
     "text": [
      "\n"
     ]
    }
   ],
   "source": [
    "for x in tqdm([1,2,3,4,5,6]):\n",
    "    print(x)"
   ]
  },
  {
   "cell_type": "code",
   "execution_count": 14,
   "metadata": {},
   "outputs": [],
   "source": [
    "def get_Fibonacci(num):\n",
    "    list = []\n",
    "    if (num<3):\n",
    "        if (num==1):\n",
    "            list=[1]\n",
    "        if (num==2):\n",
    "            list=[1,1]\n",
    "    else:\n",
    "        list = [1,1]\n",
    "        for i in range(2, num):\n",
    "            list.append(list[i-1]+list[i-2])\n",
    "    return list"
   ]
  },
  {
   "cell_type": "code",
   "execution_count": 16,
   "metadata": {},
   "outputs": [
    {
     "data": {
      "text/plain": [
       "[1, 1]"
      ]
     },
     "execution_count": 16,
     "metadata": {},
     "output_type": "execute_result"
    }
   ],
   "source": [
    "get_Fibonacci(2)"
   ]
  },
  {
   "cell_type": "code",
   "execution_count": 4,
   "metadata": {},
   "outputs": [
    {
     "name": "stdout",
     "output_type": "stream",
     "text": [
      "100\n",
      "10\n",
      "5\n"
     ]
    }
   ],
   "source": [
    "def square(x):\n",
    "    x = x*x\n",
    "    return x\n",
    "y = 10\n",
    "print(square(y))\n",
    "print(y)\n",
    "print(x)"
   ]
  }
 ],
 "metadata": {
  "kernelspec": {
   "display_name": "Python 3",
   "language": "python",
   "name": "python3"
  },
  "language_info": {
   "codemirror_mode": {
    "name": "ipython",
    "version": 3
   },
   "file_extension": ".py",
   "mimetype": "text/x-python",
   "name": "python",
   "nbconvert_exporter": "python",
   "pygments_lexer": "ipython3",
   "version": "3.12.3"
  }
 },
 "nbformat": 4,
 "nbformat_minor": 2
}
