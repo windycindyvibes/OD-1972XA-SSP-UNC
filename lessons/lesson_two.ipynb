{
 "cells": [
  {
   "cell_type": "code",
   "execution_count": 2,
   "metadata": {},
   "outputs": [
    {
     "name": "stdout",
     "output_type": "stream",
     "text": [
      "guess a number between 0 and 100\n",
      "so so cold\n",
      "guess a number between 0 and 100\n",
      "warm\n",
      "guess a number between 0 and 100\n",
      "so so cold\n",
      "guess a number between 0 and 100\n",
      "lava\n",
      "guess a number between 0 and 100\n",
      "lava\n"
     ]
    }
   ],
   "source": [
    "import random\n",
    "secret = random.randint(0,100)\n",
    "\n",
    "guessed = False\n",
    "turns_left = 5\n",
    "while (not guessed and turns_left > 0):\n",
    "    print(\"guess a number between 0 and 100\")\n",
    "\n",
    "    guess = int(input(\"enter your guess: \"))\n",
    "    if guess == secret:\n",
    "        print(\"WINNER!\")\n",
    "        guessed = True\n",
    "    elif abs(guess - secret) <= 5:\n",
    "        print(\"lava\")\n",
    "    elif abs(guess-secret) <= 20:\n",
    "        print(\"warm\")\n",
    "    else:\n",
    "        print(\"so so cold\")\n",
    "    \n",
    "    turns_left -= 1\n",
    "\n",
    "if not guessed:\n",
    "    \"You lost.\""
   ]
  },
  {
   "cell_type": "code",
   "execution_count": 4,
   "metadata": {},
   "outputs": [
    {
     "name": "stdout",
     "output_type": "stream",
     "text": [
      "10.000046356507898\n"
     ]
    }
   ],
   "source": [
    "x = 100\n",
    "root = x/2\n",
    "change = x/2\n",
    "\n",
    "while (change > 0.1):\n",
    "    old_root = root\n",
    "    root = 0.5*(root + x/root)\n",
    "    change = abs(root - old_root)\n",
    "\n",
    "print(root)"
   ]
  },
  {
   "cell_type": "code",
   "execution_count": 10,
   "metadata": {},
   "outputs": [
    {
     "name": "stdout",
     "output_type": "stream",
     "text": [
      "3.1891847822775965\n"
     ]
    }
   ],
   "source": [
    "import math\n",
    "def estimatePi(n):\n",
    "    estimate = 0\n",
    "    for i in range(1, 2*n, 4):\n",
    "        estimate += 4/i\n",
    "    for i in range(3, 2*n, 4):\n",
    "        estimate -= 4/i\n",
    "    return estimate\n",
    "\n",
    "def estimate_pi(tolerance):\n",
    "    n = 0\n",
    "    change = math.pi\n",
    "    while (change > tolerance):\n",
    "        n += 1\n",
    "        change = abs(estimatePi(n) - estimatePi(n-1))\n",
    "    \n",
    "    print(estimatePi(n))\n",
    "\n",
    "estimate_pi(0.1)\n"
   ]
  },
  {
   "cell_type": "code",
   "execution_count": 16,
   "metadata": {},
   "outputs": [
    {
     "name": "stdout",
     "output_type": "stream",
     "text": [
      "9\n",
      "[[5, 5, 5], [2, 8, 9], [3, 1, 6]]\n"
     ]
    }
   ],
   "source": [
    "data = [[3, 1, 6],\n",
    "        [2, 8, 9],\n",
    "        [5, 5, 5]]\n",
    "\n",
    "print(data[:2][-1][::-1][0])\n",
    "print(data[-1]) # takes just last element\n",
    "print(data[:-1]) # takes everything but last element\n",
    "print(data[::-1]) # reverses list"
   ]
  },
  {
   "cell_type": "markdown",
   "metadata": {},
   "source": [
    "numpy"
   ]
  },
  {
   "cell_type": "code",
   "execution_count": 18,
   "metadata": {},
   "outputs": [
    {
     "name": "stdout",
     "output_type": "stream",
     "text": [
      "[1 2 3 4 5]\n"
     ]
    }
   ],
   "source": [
    "import numpy as np\n",
    "\n",
    "vector = np.array([1, 2, 3, 4, 5])\n",
    "print(vector)"
   ]
  },
  {
   "cell_type": "code",
   "execution_count": 22,
   "metadata": {},
   "outputs": [
    {
     "name": "stdout",
     "output_type": "stream",
     "text": [
      "[0. 0. 0.]\n",
      "[[0.]\n",
      " [0.]\n",
      " [0.]]\n"
     ]
    }
   ],
   "source": [
    "print(np.zeros(3))\n",
    "x = np.array([np.zeros(1), np.zeros(1), np.zeros(1)])\n",
    "print(x)"
   ]
  },
  {
   "cell_type": "code",
   "execution_count": 24,
   "metadata": {},
   "outputs": [
    {
     "name": "stdout",
     "output_type": "stream",
     "text": [
      "[[0. 0. 0.]\n",
      " [0. 0. 0.]\n",
      " [0. 0. 0.]]\n"
     ]
    }
   ],
   "source": [
    "y = np.array([np.zeros(3), np.zeros(3), np.zeros(3)])\n",
    "print(y)"
   ]
  },
  {
   "cell_type": "markdown",
   "metadata": {},
   "source": [
    "magic square"
   ]
  },
  {
   "cell_type": "code",
   "execution_count": 28,
   "metadata": {},
   "outputs": [
    {
     "name": "stdout",
     "output_type": "stream",
     "text": [
      "15\n",
      "False\n"
     ]
    }
   ],
   "source": [
    "def magic_square(array):\n",
    "    arr = np.array(array)\n",
    "    sum = np.sum(arr[0])\n",
    "    print(sum)\n",
    "    if (np.sum(arr[1]) == sum and np.sum(arr[2]) == sum and np.sum(arr[:, 0]) == sum and np.sum(arr[:, 1]) == sum and np.sum(arr[:, 2]) == sum and np.sum(np.diag(arr)) == sum and np.sum(np.diag(np.fliplr(arr))) == sum):\n",
    "        return True\n",
    "    else:\n",
    "        return False\n",
    "\n",
    "arr = [[8,1,6],[3,5,7],[4,9,2]]\n",
    "print(magic_square(arr))\n"
   ]
  },
  {
   "cell_type": "markdown",
   "metadata": {},
   "source": [
    "reading from a file"
   ]
  },
  {
   "cell_type": "code",
   "execution_count": null,
   "metadata": {},
   "outputs": [],
   "source": [
    "filename = open('path', 'r')\n",
    "filetext = filename.read()\n",
    "filename.close()\n",
    "\n",
    "for line in filename:\n",
    "    print(line.strip())"
   ]
  }
 ],
 "metadata": {
  "kernelspec": {
   "display_name": "Python 3",
   "language": "python",
   "name": "python3"
  },
  "language_info": {
   "codemirror_mode": {
    "name": "ipython",
    "version": 3
   },
   "file_extension": ".py",
   "mimetype": "text/x-python",
   "name": "python",
   "nbconvert_exporter": "python",
   "pygments_lexer": "ipython3",
   "version": "3.12.3"
  }
 },
 "nbformat": 4,
 "nbformat_minor": 2
}
